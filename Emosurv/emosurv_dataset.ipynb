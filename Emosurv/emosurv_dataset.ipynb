{
 "cells": [
  {
   "cell_type": "code",
   "execution_count": 2,
   "metadata": {},
   "outputs": [],
   "source": [
    "import pandas as pd\n",
    "import torch\n",
    "import torch.nn as nn\n",
    "import torch.optim as optim\n",
    "from sklearn.model_selection import train_test_split\n",
    "from sklearn.preprocessing import LabelEncoder\n",
    "from torch.utils.data import DataLoader, Dataset\n",
    "import numpy as np"
   ]
  },
  {
   "cell_type": "code",
   "execution_count": 3,
   "metadata": {},
   "outputs": [
    {
     "name": "stderr",
     "output_type": "stream",
     "text": [
      "/var/folders/ql/wvg2spkx13l30j3wl_jwzg_80000gn/T/ipykernel_58615/2181491883.py:2: FutureWarning: The error_bad_lines argument has been deprecated and will be removed in a future version. Use on_bad_lines in the future.\n",
      "\n",
      "\n",
      "  fixed_text_typing_df = pd.read_csv('FixedTextTypingDataset.csv', delimiter=';', error_bad_lines=False, engine='python')\n",
      "/var/folders/ql/wvg2spkx13l30j3wl_jwzg_80000gn/T/ipykernel_58615/2181491883.py:3: FutureWarning: The error_bad_lines argument has been deprecated and will be removed in a future version. Use on_bad_lines in the future.\n",
      "\n",
      "\n",
      "  free_text_typing_df = pd.read_csv('FreeTextTypingDataset.csv', delimiter=';', error_bad_lines=False, engine='python')\n",
      "/var/folders/ql/wvg2spkx13l30j3wl_jwzg_80000gn/T/ipykernel_58615/2181491883.py:4: FutureWarning: The error_bad_lines argument has been deprecated and will be removed in a future version. Use on_bad_lines in the future.\n",
      "\n",
      "\n",
      "  frequency_df = pd.read_csv('FrequencyDataset.csv', delimiter=';', error_bad_lines=False, engine='python')\n"
     ]
    }
   ],
   "source": [
    "# Step 1: Load and Clean the Datasets\n",
    "fixed_text_typing_df = pd.read_csv('FixedTextTypingDataset.csv', delimiter=';', error_bad_lines=False, engine='python')\n",
    "free_text_typing_df = pd.read_csv('FreeTextTypingDataset.csv', delimiter=';', error_bad_lines=False, engine='python')\n",
    "frequency_df = pd.read_csv('FrequencyDataset.csv', delimiter=';', error_bad_lines=False, engine='python')\n",
    "\n",
    "# Drop any rows with NaN values that resulted from the parsing errors\n",
    "fixed_text_typing_df.dropna(inplace=True)\n",
    "free_text_typing_df.dropna(inplace=True)\n",
    "frequency_df.dropna(inplace=True)"
   ]
  },
  {
   "cell_type": "code",
   "execution_count": 4,
   "metadata": {},
   "outputs": [],
   "source": [
    "# Step 2: Feature Extraction\n",
    "\n",
    "def extract_features(df):\n",
    "    features = []\n",
    "    \n",
    "    # Convert relevant columns to numeric types\n",
    "    df['keyDown'] = pd.to_numeric(df['keyDown'], errors='coerce')\n",
    "    df['keyUp'] = pd.to_numeric(df['keyUp'], errors='coerce')\n",
    "    df['D1D2'] = pd.to_numeric(df['D1D2'], errors='coerce')\n",
    "        \n",
    "    for _, row in df.iterrows():\n",
    "        key_down_up_diff = row['keyUp'] - row['keyDown']\n",
    "        inter_key_time = row['D1D2'] if 'D1D2' in row else np.nan\n",
    "        features.append([key_down_up_diff, inter_key_time])\n",
    "    \n",
    "    return np.array(features)\n",
    "\n",
    "\n",
    "# Example: Extracting features from the fixed text dataset\n",
    "fixed_text_features = extract_features(fixed_text_typing_df)\n",
    "fixed_text_labels = fixed_text_typing_df['emotionIndex'].values\n",
    "\n",
    "# Encoding the labels\n",
    "label_encoder = LabelEncoder()\n",
    "fixed_text_labels_encoded = label_encoder.fit_transform(fixed_text_labels)\n",
    "\n",
    "# Train-test split\n",
    "X_train, X_test, y_train, y_test = train_test_split(fixed_text_features, fixed_text_labels_encoded, test_size=0.2, random_state=42)"
   ]
  },
  {
   "cell_type": "code",
   "execution_count": 5,
   "metadata": {},
   "outputs": [
    {
     "data": {
      "text/plain": [
       "array([[  nan,  119.],\n",
       "       [  nan, 1058.],\n",
       "       [  nan,  602.],\n",
       "       ...,\n",
       "       [  nan,  329.],\n",
       "       [  nan,  296.],\n",
       "       [  nan,   62.]])"
      ]
     },
     "execution_count": 5,
     "metadata": {},
     "output_type": "execute_result"
    }
   ],
   "source": [
    "X_train"
   ]
  },
  {
   "cell_type": "code",
   "execution_count": 10,
   "metadata": {},
   "outputs": [],
   "source": [
    "# Step 3: Define PyTorch Dataset and DataLoader\n",
    "class KeystrokeDataset(Dataset):\n",
    "    def __init__(self, features, labels):\n",
    "        self.features = torch.tensor(features, dtype=torch.float32)\n",
    "        self.labels = torch.tensor(labels, dtype=torch.long)\n",
    "\n",
    "    def __len__(self):\n",
    "        return len(self.features)\n",
    "\n",
    "    def __getitem__(self, idx):\n",
    "        return self.features[idx], self.labels[idx]\n",
    "\n",
    "train_dataset = KeystrokeDataset(X_train, y_train)\n",
    "test_dataset = KeystrokeDataset(X_test, y_test)\n",
    "\n",
    "train_loader = DataLoader(train_dataset, batch_size=32, shuffle=True)\n",
    "test_loader = DataLoader(test_dataset, batch_size=32, shuffle=False)"
   ]
  },
  {
   "cell_type": "code",
   "execution_count": 11,
   "metadata": {},
   "outputs": [],
   "source": [
    "# Step 4: Define the Model\n",
    "class EmotionClassifier(nn.Module):\n",
    "    def __init__(self, input_size, hidden_size, num_classes):\n",
    "        super(EmotionClassifier, self).__init__()\n",
    "        self.lstm = nn.LSTM(input_size, hidden_size, batch_first=True)\n",
    "        self.fc = nn.Linear(hidden_size, num_classes)\n",
    "\n",
    "    def forward(self, x):\n",
    "        h0 = torch.zeros(1, x.size(0), hidden_size).to(device)\n",
    "        c0 = torch.zeros(1, x.size(0), hidden_size).to(device)\n",
    "        out, _ = self.lstm(x, (h0, c0))\n",
    "        out = self.fc(out[:, -1, :])\n",
    "        return out\n",
    "\n",
    "input_size = 2  # Number of features\n",
    "hidden_size = 64\n",
    "num_classes = len(label_encoder.classes_)\n",
    "device = torch.device('cuda' if torch.cuda.is_available() else 'cpu')\n",
    "\n",
    "model = EmotionClassifier(input_size, hidden_size, num_classes).to(device)"
   ]
  },
  {
   "cell_type": "code",
   "execution_count": 12,
   "metadata": {},
   "outputs": [
    {
     "name": "stdout",
     "output_type": "stream",
     "text": [
      "Epoch [1/10], Loss: nan\n",
      "Epoch [2/10], Loss: nan\n",
      "Epoch [3/10], Loss: nan\n",
      "Epoch [4/10], Loss: nan\n",
      "Epoch [5/10], Loss: nan\n",
      "Epoch [6/10], Loss: nan\n",
      "Epoch [7/10], Loss: nan\n",
      "Epoch [8/10], Loss: nan\n",
      "Epoch [9/10], Loss: nan\n",
      "Epoch [10/10], Loss: nan\n"
     ]
    }
   ],
   "source": [
    "# Step 5: Train the Model\n",
    "criterion = nn.CrossEntropyLoss()\n",
    "optimizer = optim.Adam(model.parameters(), lr=0.001)\n",
    "\n",
    "num_epochs = 10\n",
    "\n",
    "for epoch in range(num_epochs):\n",
    "    model.train()\n",
    "    for features, labels in train_loader:\n",
    "        features, labels = features.to(device), labels.to(device)\n",
    "        \n",
    "        # Forward pass\n",
    "        outputs = model(features.unsqueeze(1))\n",
    "        loss = criterion(outputs, labels)\n",
    "        \n",
    "        # Backward pass and optimization\n",
    "        optimizer.zero_grad()\n",
    "        loss.backward()\n",
    "        optimizer.step()\n",
    "\n",
    "    print(f'Epoch [{epoch+1}/{num_epochs}], Loss: {loss.item():.4f}')"
   ]
  },
  {
   "cell_type": "code",
   "execution_count": 13,
   "metadata": {},
   "outputs": [
    {
     "name": "stdout",
     "output_type": "stream",
     "text": [
      "Accuracy of the model on the test set: 21.63%\n"
     ]
    }
   ],
   "source": [
    "# Step 6: Evaluate the Model\n",
    "model.eval()\n",
    "with torch.no_grad():\n",
    "    correct = 0\n",
    "    total = 0\n",
    "    for features, labels in test_loader:\n",
    "        features, labels = features.to(device), labels.to(device)\n",
    "        outputs = model(features.unsqueeze(1))\n",
    "        _, predicted = torch.max(outputs.data, 1)\n",
    "        total += labels.size(0)\n",
    "        correct += (predicted == labels).sum().item()\n",
    "\n",
    "    print(f'Accuracy of the model on the test set: {100 * correct / total:.2f}%')\n"
   ]
  },
  {
   "cell_type": "code",
   "execution_count": 15,
   "metadata": {},
   "outputs": [],
   "source": [
    "# Step 7: Map model outputs to emotional states\n",
    "def predict_emotion(model, features):\n",
    "    model.eval()\n",
    "    with torch.no_grad():\n",
    "        features = torch.tensor(features, dtype=torch.float32).unsqueeze(0).unsqueeze(0).to(device)\n",
    "        outputs = model(features)\n",
    "        _, predicted = torch.max(outputs.data, 1)\n",
    "        return label_encoder.inverse_transform(predicted.cpu().numpy())"
   ]
  },
  {
   "cell_type": "code",
   "execution_count": 16,
   "metadata": {},
   "outputs": [
    {
     "name": "stdout",
     "output_type": "stream",
     "text": [
      "Predicted Emotion: A\n"
     ]
    }
   ],
   "source": [
    "# Example: Predicting emotion for a new sample\n",
    "sample_feature = [120, 300]  # Example feature vector\n",
    "predicted_emotion = predict_emotion(model, sample_feature)\n",
    "print(f'Predicted Emotion: {predicted_emotion[0]}')"
   ]
  },
  {
   "cell_type": "code",
   "execution_count": null,
   "metadata": {},
   "outputs": [],
   "source": []
  }
 ],
 "metadata": {
  "kernelspec": {
   "display_name": "Python 3",
   "language": "python",
   "name": "python3"
  },
  "language_info": {
   "codemirror_mode": {
    "name": "ipython",
    "version": 3
   },
   "file_extension": ".py",
   "mimetype": "text/x-python",
   "name": "python",
   "nbconvert_exporter": "python",
   "pygments_lexer": "ipython3",
   "version": "3.9.13"
  }
 },
 "nbformat": 4,
 "nbformat_minor": 2
}
